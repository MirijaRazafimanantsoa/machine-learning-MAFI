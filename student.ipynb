{
 "cells": [
  {
   "cell_type": "code",
   "execution_count": 1,
   "metadata": {},
   "outputs": [],
   "source": [
    "import numpy as np\n",
    "import pandas as pd\n",
    "import matplotlib.pyplot as plt"
   ]
  },
  {
   "cell_type": "markdown",
   "metadata": {},
   "source": [
    "# Enter the password here\n"
   ]
  },
  {
   "cell_type": "code",
   "execution_count": 2,
   "metadata": {},
   "outputs": [],
   "source": [
    "password = \"3me7vdo_\""
   ]
  },
  {
   "cell_type": "code",
   "execution_count": 3,
   "metadata": {},
   "outputs": [],
   "source": [
    "from npz_loader import load_encrypted_npz\n",
    "\n",
    "data = load_encrypted_npz(password)"
   ]
  },
  {
   "cell_type": "code",
   "execution_count": 4,
   "metadata": {},
   "outputs": [
    {
     "name": "stdout",
     "output_type": "stream",
     "text": [
      "Decrypted data: {'X_train': array([[0, 0, 0, ..., 0, 0, 0],\n",
      "       [0, 0, 0, ..., 0, 0, 0],\n",
      "       [0, 0, 0, ..., 0, 0, 0],\n",
      "       ...,\n",
      "       [0, 0, 0, ..., 0, 0, 0],\n",
      "       [0, 0, 0, ..., 0, 0, 0],\n",
      "       [0, 0, 0, ..., 0, 0, 0]], dtype=uint8), 'y_train': array([1, 2, 1, ..., 2, 2, 1], dtype=uint8), 'X_test': array([[0, 0, 0, ..., 0, 0, 0],\n",
      "       [0, 0, 0, ..., 0, 0, 0],\n",
      "       [0, 0, 0, ..., 0, 0, 0],\n",
      "       ...,\n",
      "       [0, 0, 0, ..., 0, 0, 0],\n",
      "       [0, 0, 0, ..., 0, 0, 0],\n",
      "       [0, 0, 0, ..., 0, 0, 0]], dtype=uint8)}\n"
     ]
    }
   ],
   "source": [
    "print(\"Decrypted data:\", data)\n"
   ]
  },
  {
   "cell_type": "markdown",
   "metadata": {},
   "source": [
    "# Now start working\n"
   ]
  },
  {
   "cell_type": "markdown",
   "metadata": {},
   "source": [
    "# <u>Name :</u> RAZAFIMANANSTOA \n",
    "# <u> Firstname :</u> Lucas Mirija"
   ]
  },
  {
   "cell_type": "markdown",
   "metadata": {},
   "source": [
    "# ___________________________________________________"
   ]
  },
  {
   "cell_type": "markdown",
   "metadata": {},
   "source": [
    "## Defining Classes\n"
   ]
  },
  {
   "cell_type": "code",
   "execution_count": 5,
   "metadata": {},
   "outputs": [],
   "source": [
    "class DataSplitter:\n",
    "    def __init__(self, train_ratio=0.8):\n",
    "        \"\"\" \n",
    "        Shuffling the dataframe then split it into two samples:\n",
    "        - train sample\n",
    "        - validation sample\n",
    "        \"\"\"\n",
    "        self.train_ratio = train_ratio\n",
    "\n",
    "    def split(self, df):\n",
    "        rows = df.values.tolist()\n",
    "        np.random.shuffle(rows)\n",
    "        train_size = int(len(rows) * self.train_ratio)\n",
    "        train_rows = rows[:train_size]\n",
    "        valid_rows = rows[train_size:]\n",
    "        \n",
    "        train = pd.DataFrame(train_rows, columns=df.columns)\n",
    "        valid = pd.DataFrame(valid_rows, columns=df.columns)\n",
    "        \n",
    "        return train, valid\n",
    "\n",
    "class Scaler:\n",
    "    def __init__(self):\n",
    "        \"\"\"\n",
    "        Scaling the features Matrix using NumPy mean and std\n",
    "        \"\"\"\n",
    "        self.mean = None\n",
    "        self.deviation = None\n",
    "\n",
    "    def fit(self, X):\n",
    "        self.mean = np.mean(X, axis=0)\n",
    "        self.deviation = np.std(X, axis=0, ddof=1)\n",
    "\n",
    "    def fit_transform(self, X):\n",
    "        self.fit(X)\n",
    "        epsilon = 1e-10\n",
    "        return (X - self.mean) / (self.deviation+epsilon)\n",
    "scaler = Scaler()\n",
    "\n",
    "class BinaryClassifier : \n",
    "    def __init__ (self, learning_rate = 0.01 , iterations = 1000):\n",
    "        self.learning_rate = learning_rate\n",
    "        self.iterations = iterations\n",
    "        self.w = None\n",
    "        self.b = None\n",
    "\n",
    "    \n",
    "    def fit (self , X , y):\n",
    "        \"\"\"Logistic regression classifier using Batch Gradient descent\n",
    "\n",
    "        Param:\n",
    "            X (np array): features matrix (m x n)\n",
    "            y (np array): target vector (m x 1)\n",
    "        \"\"\"\n",
    "        m,n = X.shape\n",
    "        X = scaler.fit_transform(X)\n",
    "        self.w = np.zeros((n,1))\n",
    "        self.b = 0\n",
    "        y= y.reshape(-1,1)\n",
    "        epsilon = 1e-10\n",
    "        cost_list = []\n",
    "\n",
    "        for i in range (self.iterations):\n",
    "            z = np.dot(X,self.w) + self.b\n",
    "            A = 1/(1+np.exp(-z))\n",
    "            cost = -(1/m)*np.sum( y*np.log(A + epsilon) + (1-y)*np.log(1-A + epsilon))\n",
    "            dW = (1/m)*np.dot(X.T , A -y)\n",
    "            dB = (1/m)*np.sum(A - y)\n",
    "            self.w -= self.learning_rate *dW\n",
    "            self.b -= self.learning_rate *dB\n",
    "            cost_list.append(cost)\n",
    "        plt.plot(np.arange(self.iterations),cost_list)\n",
    "        plt.xlabel('iterations')\n",
    "        plt.ylabel('cost value')\n",
    "        plt.title('COST FUNCTION OVER ITERATIONS')\n",
    "        plt.show()\n",
    "\n",
    "\n",
    "    def predict (self,X):\n",
    "        X = scaler.fit_transform(X)\n",
    "        z = np.dot (X,self.w)+self.b\n",
    "        A = 1/(1+np.exp(-z))\n",
    "        return np.array ((A > 0.5).astype(int)) + 1 # +1 to get 1s and 2s\n",
    "\n",
    "\n",
    "class Score:\n",
    "    \"\"\"\n",
    "    Calculating the model's score (F1) ; y=2 is considered as Positive\n",
    "    \"\"\"\n",
    "    def __init__(self, y_true, y_pred):\n",
    "        self.y_true = np.array(y_true)\n",
    "        self.y_pred = np.array(y_pred)\n",
    "\n",
    "    def true_positives(self):\n",
    "        return np.sum((self.y_true == 2) & (self.y_pred == 2))\n",
    "\n",
    "    def false_positives(self):\n",
    "        return np.sum((self.y_true == 1) & (self.y_pred == 2))\n",
    "\n",
    "    def false_negatives(self):\n",
    "        return np.sum((self.y_true == 2) & (self.y_pred == 1))\n",
    "\n",
    "    def precision(self):\n",
    "        true_pos = self.true_positives()\n",
    "        false_pos = self.false_positives()\n",
    "        return true_pos / (true_pos + false_pos)\n",
    "\n",
    "    def recall(self):\n",
    "        true_pos = self.true_positives()\n",
    "        false_neg = self.false_negatives()\n",
    "        return true_pos / (true_pos + false_neg) \n",
    "\n",
    "    def f1_score(self):\n",
    "        prec = self.precision()\n",
    "        rec = self.recall()\n",
    "        return 2 * (prec * rec) / (prec + rec)\n"
   ]
  },
  {
   "cell_type": "markdown",
   "metadata": {},
   "source": [
    "### Reshaping dataframe with pandas for easier manipulation and visualization:"
   ]
  },
  {
   "cell_type": "code",
   "execution_count": 6,
   "metadata": {},
   "outputs": [
    {
     "data": {
      "text/html": [
       "<div>\n",
       "<style scoped>\n",
       "    .dataframe tbody tr th:only-of-type {\n",
       "        vertical-align: middle;\n",
       "    }\n",
       "\n",
       "    .dataframe tbody tr th {\n",
       "        vertical-align: top;\n",
       "    }\n",
       "\n",
       "    .dataframe thead th {\n",
       "        text-align: right;\n",
       "    }\n",
       "</style>\n",
       "<table border=\"1\" class=\"dataframe\">\n",
       "  <thead>\n",
       "    <tr style=\"text-align: right;\">\n",
       "      <th></th>\n",
       "      <th>feature_1</th>\n",
       "      <th>feature_2</th>\n",
       "      <th>feature_3</th>\n",
       "      <th>feature_4</th>\n",
       "      <th>feature_5</th>\n",
       "      <th>feature_6</th>\n",
       "      <th>feature_7</th>\n",
       "      <th>feature_8</th>\n",
       "      <th>feature_9</th>\n",
       "      <th>feature_10</th>\n",
       "      <th>...</th>\n",
       "      <th>feature_776</th>\n",
       "      <th>feature_777</th>\n",
       "      <th>feature_778</th>\n",
       "      <th>feature_779</th>\n",
       "      <th>feature_780</th>\n",
       "      <th>feature_781</th>\n",
       "      <th>feature_782</th>\n",
       "      <th>feature_783</th>\n",
       "      <th>feature_784</th>\n",
       "      <th>y</th>\n",
       "    </tr>\n",
       "  </thead>\n",
       "  <tbody>\n",
       "    <tr>\n",
       "      <th>0</th>\n",
       "      <td>0</td>\n",
       "      <td>0</td>\n",
       "      <td>0</td>\n",
       "      <td>0</td>\n",
       "      <td>0</td>\n",
       "      <td>0</td>\n",
       "      <td>0</td>\n",
       "      <td>0</td>\n",
       "      <td>0</td>\n",
       "      <td>0</td>\n",
       "      <td>...</td>\n",
       "      <td>0</td>\n",
       "      <td>0</td>\n",
       "      <td>0</td>\n",
       "      <td>0</td>\n",
       "      <td>0</td>\n",
       "      <td>0</td>\n",
       "      <td>0</td>\n",
       "      <td>0</td>\n",
       "      <td>0</td>\n",
       "      <td>1</td>\n",
       "    </tr>\n",
       "    <tr>\n",
       "      <th>1</th>\n",
       "      <td>0</td>\n",
       "      <td>0</td>\n",
       "      <td>0</td>\n",
       "      <td>0</td>\n",
       "      <td>0</td>\n",
       "      <td>0</td>\n",
       "      <td>0</td>\n",
       "      <td>0</td>\n",
       "      <td>0</td>\n",
       "      <td>0</td>\n",
       "      <td>...</td>\n",
       "      <td>0</td>\n",
       "      <td>0</td>\n",
       "      <td>0</td>\n",
       "      <td>0</td>\n",
       "      <td>0</td>\n",
       "      <td>0</td>\n",
       "      <td>0</td>\n",
       "      <td>0</td>\n",
       "      <td>0</td>\n",
       "      <td>2</td>\n",
       "    </tr>\n",
       "    <tr>\n",
       "      <th>2</th>\n",
       "      <td>0</td>\n",
       "      <td>0</td>\n",
       "      <td>0</td>\n",
       "      <td>0</td>\n",
       "      <td>0</td>\n",
       "      <td>0</td>\n",
       "      <td>0</td>\n",
       "      <td>0</td>\n",
       "      <td>0</td>\n",
       "      <td>0</td>\n",
       "      <td>...</td>\n",
       "      <td>0</td>\n",
       "      <td>0</td>\n",
       "      <td>0</td>\n",
       "      <td>0</td>\n",
       "      <td>0</td>\n",
       "      <td>0</td>\n",
       "      <td>0</td>\n",
       "      <td>0</td>\n",
       "      <td>0</td>\n",
       "      <td>1</td>\n",
       "    </tr>\n",
       "    <tr>\n",
       "      <th>3</th>\n",
       "      <td>0</td>\n",
       "      <td>0</td>\n",
       "      <td>0</td>\n",
       "      <td>0</td>\n",
       "      <td>0</td>\n",
       "      <td>0</td>\n",
       "      <td>0</td>\n",
       "      <td>0</td>\n",
       "      <td>0</td>\n",
       "      <td>0</td>\n",
       "      <td>...</td>\n",
       "      <td>0</td>\n",
       "      <td>0</td>\n",
       "      <td>0</td>\n",
       "      <td>0</td>\n",
       "      <td>0</td>\n",
       "      <td>0</td>\n",
       "      <td>0</td>\n",
       "      <td>0</td>\n",
       "      <td>0</td>\n",
       "      <td>1</td>\n",
       "    </tr>\n",
       "    <tr>\n",
       "      <th>4</th>\n",
       "      <td>0</td>\n",
       "      <td>0</td>\n",
       "      <td>0</td>\n",
       "      <td>0</td>\n",
       "      <td>0</td>\n",
       "      <td>0</td>\n",
       "      <td>0</td>\n",
       "      <td>0</td>\n",
       "      <td>0</td>\n",
       "      <td>0</td>\n",
       "      <td>...</td>\n",
       "      <td>0</td>\n",
       "      <td>0</td>\n",
       "      <td>0</td>\n",
       "      <td>0</td>\n",
       "      <td>0</td>\n",
       "      <td>0</td>\n",
       "      <td>0</td>\n",
       "      <td>0</td>\n",
       "      <td>0</td>\n",
       "      <td>1</td>\n",
       "    </tr>\n",
       "  </tbody>\n",
       "</table>\n",
       "<p>5 rows × 785 columns</p>\n",
       "</div>"
      ],
      "text/plain": [
       "   feature_1  feature_2  feature_3  feature_4  feature_5  feature_6  \\\n",
       "0          0          0          0          0          0          0   \n",
       "1          0          0          0          0          0          0   \n",
       "2          0          0          0          0          0          0   \n",
       "3          0          0          0          0          0          0   \n",
       "4          0          0          0          0          0          0   \n",
       "\n",
       "   feature_7  feature_8  feature_9  feature_10  ...  feature_776  feature_777  \\\n",
       "0          0          0          0           0  ...            0            0   \n",
       "1          0          0          0           0  ...            0            0   \n",
       "2          0          0          0           0  ...            0            0   \n",
       "3          0          0          0           0  ...            0            0   \n",
       "4          0          0          0           0  ...            0            0   \n",
       "\n",
       "   feature_778  feature_779  feature_780  feature_781  feature_782  \\\n",
       "0            0            0            0            0            0   \n",
       "1            0            0            0            0            0   \n",
       "2            0            0            0            0            0   \n",
       "3            0            0            0            0            0   \n",
       "4            0            0            0            0            0   \n",
       "\n",
       "   feature_783  feature_784  y  \n",
       "0            0            0  1  \n",
       "1            0            0  2  \n",
       "2            0            0  1  \n",
       "3            0            0  1  \n",
       "4            0            0  1  \n",
       "\n",
       "[5 rows x 785 columns]"
      ]
     },
     "execution_count": 6,
     "metadata": {},
     "output_type": "execute_result"
    }
   ],
   "source": [
    "n = len (data['X_train'][0]);\n",
    "df = pd.DataFrame(data['X_train'], columns=[f'feature_{i+1}' for i in range (n)])\n",
    "df['y']=data['y_train']\n",
    "X_test = pd.DataFrame (data['X_test'], columns = [f'feature_{i+1}' for i in range (n)])\n",
    "df.head()"
   ]
  },
  {
   "cell_type": "markdown",
   "metadata": {},
   "source": [
    "#### Splitting df : Training (80 % ), Validation (20 %)"
   ]
  },
  {
   "cell_type": "code",
   "execution_count": 7,
   "metadata": {},
   "outputs": [],
   "source": [
    "splitter = DataSplitter(train_ratio=0.8)\n",
    "train, valid = splitter.split(df)"
   ]
  },
  {
   "cell_type": "markdown",
   "metadata": {},
   "source": [
    "#### Replacing the targets with 0 and 1 for Logistic Regression (for train only): "
   ]
  },
  {
   "cell_type": "code",
   "execution_count": 8,
   "metadata": {},
   "outputs": [],
   "source": [
    "train[\"y\"] = train[\"y\"] -1"
   ]
  },
  {
   "cell_type": "markdown",
   "metadata": {},
   "source": [
    "#### Extracting Xs and ys from the df"
   ]
  },
  {
   "cell_type": "code",
   "execution_count": 9,
   "metadata": {},
   "outputs": [],
   "source": [
    "def get_xy (df,target : str):\n",
    "    X = df [[c for c in df.columns if c != target]].values\n",
    "    y = df[target].values.reshape(-1,1)\n",
    "    return X, y\n",
    "\n",
    "target = \"y\"\n",
    "X_train, y_train = get_xy (train,target)\n",
    "X_valid, y_valid = get_xy (valid,target)"
   ]
  },
  {
   "cell_type": "markdown",
   "metadata": {},
   "source": [
    "### Training the model and keeping track of the cost function :"
   ]
  },
  {
   "cell_type": "code",
   "execution_count": 10,
   "metadata": {},
   "outputs": [
    {
     "data": {
      "image/png": "[encoded data removed]",
      "text/plain": [
       "<Figure size 640x480 with 1 Axes>"
      ]
     },
     "metadata": {},
     "output_type": "display_data"
    }
   ],
   "source": [
    "model = BinaryClassifier()\n",
    "model.fit(X_train,y_train)"
   ]
  },
  {
   "cell_type": "markdown",
   "metadata": {},
   "source": [
    "### Predict y for X_valid :"
   ]
  },
  {
   "cell_type": "code",
   "execution_count": 11,
   "metadata": {},
   "outputs": [
    {
     "name": "stdout",
     "output_type": "stream",
     "text": [
      "[[1]\n",
      " [1]\n",
      " [2]\n",
      " ...\n",
      " [1]\n",
      " [2]\n",
      " [1]]\n"
     ]
    }
   ],
   "source": [
    "y_pred_valid = model.predict(X_valid)\n",
    "print(y_pred_valid)"
   ]
  },
  {
   "cell_type": "markdown",
   "metadata": {},
   "source": [
    "### Calculating the model's score for the Validation sample"
   ]
  },
  {
   "cell_type": "code",
   "execution_count": 12,
   "metadata": {},
   "outputs": [
    {
     "name": "stdout",
     "output_type": "stream",
     "text": [
      "F1 Score: 0.9866777685262281\n"
     ]
    }
   ],
   "source": [
    "model_score = Score(y_valid  ,y_pred_valid)\n",
    "score = model_score.f1_score()\n",
    "print(f\"F1 Score: {score}\")"
   ]
  },
  {
   "cell_type": "markdown",
   "metadata": {},
   "source": [
    "# ______________________________________________________"
   ]
  },
  {
   "cell_type": "markdown",
   "metadata": {},
   "source": [
    "# Predictions for X_test"
   ]
  },
  {
   "cell_type": "code",
   "execution_count": 13,
   "metadata": {},
   "outputs": [
    {
     "name": "stdout",
     "output_type": "stream",
     "text": [
      "[[2]\n",
      " [1]\n",
      " [1]\n",
      " ...\n",
      " [2]\n",
      " [1]\n",
      " [2]]\n"
     ]
    }
   ],
   "source": [
    "y_pred_test = model.predict (X_test)\n",
    "print (y_pred_test)"
   ]
  }
 ],
 "metadata": {
  "kernelspec": {
   "display_name": "Python 3",
   "language": "python",
   "name": "python3"
  },
  "language_info": {
   "codemirror_mode": {
    "name": "ipython",
    "version": 3
   },
   "file_extension": ".py",
   "mimetype": "text/x-python",
   "name": "python",
   "nbconvert_exporter": "python",
   "pygments_lexer": "ipython3",
   "version": "3.12.6"
  }
 },
 "nbformat": 4,
 "nbformat_minor": 2
}
